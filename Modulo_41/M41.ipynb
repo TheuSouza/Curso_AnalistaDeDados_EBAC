{
  "cells": [
    {
      "cell_type": "code",
      "execution_count": 66,
      "metadata": {},
      "outputs": [],
      "source": [
        "import pandas as pd\n",
        "from datetime import datetime\n",
        "import boto3\n",
        "from getpass import getpass\n",
        "import os\n",
        "from tqdm import tqdm"
      ]
    },
    {
      "cell_type": "markdown",
      "metadata": {
        "id": "E69nBHvAa_O5"
      },
      "source": [
        "1.1. Faça o download do arquivo `crime.csv`."
      ]
    },
    {
      "cell_type": "code",
      "execution_count": 101,
      "metadata": {
        "id": "qylvNY1EcHDr"
      },
      "outputs": [],
      "source": [
        "crime_df = pd.read_csv('https://raw.githubusercontent.com/andre-marcos-perez/ebac-course-utils/main/dataset/crime.csv')\n",
        "crime_df.to_csv('crime.csv', sep=',', index=False)"
      ]
    },
    {
      "cell_type": "markdown",
      "metadata": {
        "id": "R9Ils6eccOLS"
      },
      "source": [
        "1.2. Leia os dados em um DataFrame Pandas e crie a coluna `reference_date`."
      ]
    },
    {
      "cell_type": "code",
      "execution_count": 103,
      "metadata": {},
      "outputs": [
        {
          "data": {
            "text/html": [
              "<div>\n",
              "<style scoped>\n",
              "    .dataframe tbody tr th:only-of-type {\n",
              "        vertical-align: middle;\n",
              "    }\n",
              "\n",
              "    .dataframe tbody tr th {\n",
              "        vertical-align: top;\n",
              "    }\n",
              "\n",
              "    .dataframe thead th {\n",
              "        text-align: right;\n",
              "    }\n",
              "</style>\n",
              "<table border=\"1\" class=\"dataframe\">\n",
              "  <thead>\n",
              "    <tr style=\"text-align: right;\">\n",
              "      <th></th>\n",
              "      <th>index</th>\n",
              "      <th>ID</th>\n",
              "      <th>Case Number</th>\n",
              "      <th>Date</th>\n",
              "      <th>Block</th>\n",
              "      <th>IUCR</th>\n",
              "      <th>Primary Type</th>\n",
              "      <th>Description</th>\n",
              "      <th>Location Description</th>\n",
              "      <th>Arrest</th>\n",
              "      <th>Domestic</th>\n",
              "      <th>Beat</th>\n",
              "      <th>District</th>\n",
              "      <th>Ward</th>\n",
              "      <th>Community Area</th>\n",
              "      <th>FBI Code</th>\n",
              "      <th>Latitude</th>\n",
              "      <th>Longitude</th>\n",
              "      <th>reference_date</th>\n",
              "    </tr>\n",
              "  </thead>\n",
              "  <tbody>\n",
              "    <tr>\n",
              "      <th>0</th>\n",
              "      <td>0</td>\n",
              "      <td>9446824</td>\n",
              "      <td>HX100141</td>\n",
              "      <td>01/01/2014 02:00:00 AM</td>\n",
              "      <td>0000X W ILLINOIS ST</td>\n",
              "      <td>0460</td>\n",
              "      <td>BATTERY</td>\n",
              "      <td>SIMPLE</td>\n",
              "      <td>STREET</td>\n",
              "      <td>False</td>\n",
              "      <td>False</td>\n",
              "      <td>1831</td>\n",
              "      <td>18</td>\n",
              "      <td>42.0</td>\n",
              "      <td>8.0</td>\n",
              "      <td>08B</td>\n",
              "      <td>41.890828</td>\n",
              "      <td>-87.630235</td>\n",
              "      <td>2014-01-01</td>\n",
              "    </tr>\n",
              "    <tr>\n",
              "      <th>1</th>\n",
              "      <td>1</td>\n",
              "      <td>9446748</td>\n",
              "      <td>HX100020</td>\n",
              "      <td>01/01/2014 12:00:00 AM</td>\n",
              "      <td>006XX N DEARBORN ST</td>\n",
              "      <td>0890</td>\n",
              "      <td>THEFT</td>\n",
              "      <td>FROM BUILDING</td>\n",
              "      <td>BAR OR TAVERN</td>\n",
              "      <td>False</td>\n",
              "      <td>False</td>\n",
              "      <td>1832</td>\n",
              "      <td>18</td>\n",
              "      <td>42.0</td>\n",
              "      <td>8.0</td>\n",
              "      <td>06</td>\n",
              "      <td>41.893542</td>\n",
              "      <td>-87.629702</td>\n",
              "      <td>2014-01-01</td>\n",
              "    </tr>\n",
              "    <tr>\n",
              "      <th>2</th>\n",
              "      <td>2</td>\n",
              "      <td>9446758</td>\n",
              "      <td>HX100030</td>\n",
              "      <td>01/01/2014 12:30:00 AM</td>\n",
              "      <td>052XX W RACE AVE</td>\n",
              "      <td>1310</td>\n",
              "      <td>CRIMINAL DAMAGE</td>\n",
              "      <td>TO PROPERTY</td>\n",
              "      <td>APARTMENT</td>\n",
              "      <td>False</td>\n",
              "      <td>False</td>\n",
              "      <td>1523</td>\n",
              "      <td>15</td>\n",
              "      <td>28.0</td>\n",
              "      <td>25.0</td>\n",
              "      <td>14</td>\n",
              "      <td>41.890046</td>\n",
              "      <td>-87.756333</td>\n",
              "      <td>2014-01-01</td>\n",
              "    </tr>\n",
              "    <tr>\n",
              "      <th>3</th>\n",
              "      <td>3</td>\n",
              "      <td>9446760</td>\n",
              "      <td>HX100027</td>\n",
              "      <td>01/01/2014 12:30:00 AM</td>\n",
              "      <td>053XX W WELLINGTON AVE</td>\n",
              "      <td>0460</td>\n",
              "      <td>BATTERY</td>\n",
              "      <td>SIMPLE</td>\n",
              "      <td>APARTMENT</td>\n",
              "      <td>True</td>\n",
              "      <td>False</td>\n",
              "      <td>2514</td>\n",
              "      <td>25</td>\n",
              "      <td>31.0</td>\n",
              "      <td>19.0</td>\n",
              "      <td>08B</td>\n",
              "      <td>41.935011</td>\n",
              "      <td>-87.759739</td>\n",
              "      <td>2014-01-01</td>\n",
              "    </tr>\n",
              "    <tr>\n",
              "      <th>4</th>\n",
              "      <td>4</td>\n",
              "      <td>9446764</td>\n",
              "      <td>HX100054</td>\n",
              "      <td>01/01/2014 12:10:00 AM</td>\n",
              "      <td>014XX W LEXINGTON ST</td>\n",
              "      <td>0460</td>\n",
              "      <td>BATTERY</td>\n",
              "      <td>SIMPLE</td>\n",
              "      <td>STREET</td>\n",
              "      <td>False</td>\n",
              "      <td>False</td>\n",
              "      <td>1231</td>\n",
              "      <td>12</td>\n",
              "      <td>25.0</td>\n",
              "      <td>28.0</td>\n",
              "      <td>08B</td>\n",
              "      <td>41.872509</td>\n",
              "      <td>-87.663069</td>\n",
              "      <td>2014-01-01</td>\n",
              "    </tr>\n",
              "  </tbody>\n",
              "</table>\n",
              "</div>"
            ],
            "text/plain": [
              "   index       ID Case Number                    Date                   Block  \\\n",
              "0      0  9446824    HX100141  01/01/2014 02:00:00 AM     0000X W ILLINOIS ST   \n",
              "1      1  9446748    HX100020  01/01/2014 12:00:00 AM     006XX N DEARBORN ST   \n",
              "2      2  9446758    HX100030  01/01/2014 12:30:00 AM        052XX W RACE AVE   \n",
              "3      3  9446760    HX100027  01/01/2014 12:30:00 AM  053XX W WELLINGTON AVE   \n",
              "4      4  9446764    HX100054  01/01/2014 12:10:00 AM    014XX W LEXINGTON ST   \n",
              "\n",
              "   IUCR     Primary Type    Description Location Description  Arrest  \\\n",
              "0  0460          BATTERY         SIMPLE               STREET   False   \n",
              "1  0890            THEFT  FROM BUILDING        BAR OR TAVERN   False   \n",
              "2  1310  CRIMINAL DAMAGE    TO PROPERTY            APARTMENT   False   \n",
              "3  0460          BATTERY         SIMPLE            APARTMENT    True   \n",
              "4  0460          BATTERY         SIMPLE               STREET   False   \n",
              "\n",
              "   Domestic  Beat  District  Ward  Community Area FBI Code   Latitude  \\\n",
              "0     False  1831        18  42.0             8.0      08B  41.890828   \n",
              "1     False  1832        18  42.0             8.0       06  41.893542   \n",
              "2     False  1523        15  28.0            25.0       14  41.890046   \n",
              "3     False  2514        25  31.0            19.0      08B  41.935011   \n",
              "4     False  1231        12  25.0            28.0      08B  41.872509   \n",
              "\n",
              "   Longitude reference_date  \n",
              "0 -87.630235     2014-01-01  \n",
              "1 -87.629702     2014-01-01  \n",
              "2 -87.756333     2014-01-01  \n",
              "3 -87.759739     2014-01-01  \n",
              "4 -87.663069     2014-01-01  "
            ]
          },
          "execution_count": 103,
          "metadata": {},
          "output_type": "execute_result"
        }
      ],
      "source": [
        "crime_df = pd.read_csv('crime.csv', sep=',')\n",
        "\n",
        "crime_df['reference_date'] = crime_df['Date'].apply(lambda Date: datetime.strptime(Date.split(' ')[0], '%m/%d/%Y').strftime('%Y-%m-%d'))\n",
        "\n",
        "crime_df.head()"
      ]
    },
    {
      "cell_type": "markdown",
      "metadata": {
        "id": "8oTn1Z1Md2GQ"
      },
      "source": [
        "1.3. Persista o dado no DataFrame em um arquivo csv e em arquivos parquet, estes últimos comprimidos e particionados pela coluna `reference_date`."
      ]
    },
    {
      "cell_type": "code",
      "execution_count": 104,
      "metadata": {},
      "outputs": [],
      "source": [
        "crime_df.to_csv('crime_reference_date.csv', sep=',', index=False)"
      ]
    },
    {
      "cell_type": "code",
      "execution_count": 106,
      "metadata": {
        "id": "tan0z69ud2Gb"
      },
      "outputs": [],
      "source": [
        "crime_df.to_parquet(path='./parquet_file', engine='pyarrow', compression='gzip', partition_cols='reference_date')"
      ]
    },
    {
      "cell_type": "markdown",
      "metadata": {
        "id": "LzXWWUWzeNxt"
      },
      "source": [
        "1.4. Crie os recursos no AWS S3 e AWS IAM e persista os dados em seus respectivos *buckets*."
      ]
    },
    {
      "cell_type": "code",
      "execution_count": 107,
      "metadata": {},
      "outputs": [],
      "source": [
        "chave_acesso = getpass()"
      ]
    },
    {
      "cell_type": "code",
      "execution_count": 108,
      "metadata": {},
      "outputs": [],
      "source": [
        "chave_secreta = getpass()"
      ]
    },
    {
      "cell_type": "code",
      "execution_count": 109,
      "metadata": {},
      "outputs": [],
      "source": [
        "cliente = boto3.client('s3', aws_access_key_id=chave_acesso, aws_secret_access_key=chave_secreta)"
      ]
    },
    {
      "cell_type": "code",
      "execution_count": 110,
      "metadata": {},
      "outputs": [],
      "source": [
        "BUCKET_CSV = 'm41-csv'\n",
        "\n",
        "cliente.upload_file('crime_reference_date.csv', BUCKET_CSV, 'crime.csv')"
      ]
    },
    {
      "cell_type": "code",
      "execution_count": 111,
      "metadata": {
        "id": "91TxSnV-eNx7"
      },
      "outputs": [
        {
          "name": "stderr",
          "output_type": "stream",
          "text": [
            "Enviando arquivos para o S3: 100%|██████████| 365/365 [00:18<00:00, 19.44it/s]"
          ]
        },
        {
          "name": "stdout",
          "output_type": "stream",
          "text": [
            "Upload completo\n"
          ]
        },
        {
          "name": "stderr",
          "output_type": "stream",
          "text": [
            "\n"
          ]
        }
      ],
      "source": [
        "BUCKET_PARQUET = 'm41-parquet'\n",
        "LOCAL_BASE_PATH = './parquet_file'\n",
        "\n",
        "parquet_file = list()\n",
        "for root, dirs, files in os.walk(LOCAL_BASE_PATH):\n",
        "    for file in files:\n",
        "        local_path = os.path.join(root, file)\n",
        "        bucket_path = os.path.relpath(local_path, LOCAL_BASE_PATH).replace('\\\\', '/')\n",
        "        parquet_file.append((local_path, bucket_path))\n",
        "\n",
        "for local_path, bucket_path in tqdm(parquet_file, desc='Enviando arquivos para o S3'):\n",
        "    cliente.upload_file(local_path, BUCKET_PARQUET, bucket_path)\n",
        "\n",
        "\n",
        "print('Upload completo')"
      ]
    },
    {
      "cell_type": "markdown",
      "metadata": {
        "id": "_D2WT_iueaRr"
      },
      "source": [
        "1.5. Crie os recursos no AWS Athena e execute as consultas SQL da aula."
      ]
    },
    {
      "cell_type": "markdown",
      "metadata": {},
      "source": [
        "**Query 1 CSV:**\n",
        "\n",
        "```sql\n",
        "SELECT \"location_description\", count(1) AS \"amount\" FROM crime_csv\n",
        "GROUP BY 1\n",
        "ORDER BY 2 DESC;\n",
        "```\n",
        "![](https://raw.githubusercontent.com/TheuSouza/Curso_AnalistaDeDados_EBAC/refs/heads/main/Modulo_41/print/Query%201%20CSV.png)\n"
      ]
    },
    {
      "cell_type": "markdown",
      "metadata": {},
      "source": [
        "**Query 1 PARQUET:**\n",
        "\n",
        "```sql\n",
        "SELECT \"location_description\", count(1) AS \"amount\" FROM crime_parquet\n",
        "GROUP BY 1\n",
        "ORDER BY 2 DESC;\n",
        "```\n",
        "![](https://raw.githubusercontent.com/TheuSouza/Curso_AnalistaDeDados_EBAC/refs/heads/main/Modulo_41/print/Query%201%20PARQUET.png)\n"
      ]
    },
    {
      "cell_type": "markdown",
      "metadata": {},
      "source": [
        "- **CSV**: 47,60 MB  \n",
        "- **Parquet**: 693,04 KB\n",
        "\n",
        "O arquivo Parquet foi aproximadamente **68 vezes menor** que o arquivo CSV.\n",
        "\n",
        "___"
      ]
    },
    {
      "cell_type": "markdown",
      "metadata": {},
      "source": [
        "**Query 2 CSV:**\n",
        "\n",
        "```sql\n",
        "SELECT * FROM crime_csv\n",
        "WHERE CAST(reference_date as DATE) \n",
        "    BETWEEN DATE '2014-12-01' AND DATE '2014-12-31';\n",
        "```\n",
        "![](https://raw.githubusercontent.com/TheuSouza/Curso_AnalistaDeDados_EBAC/refs/heads/main/Modulo_41/print/Query%202%20CSV.png)\n"
      ]
    },
    {
      "cell_type": "markdown",
      "metadata": {},
      "source": [
        "**Query 2 PARQUET:**\n",
        "\n",
        "```sql\n",
        "SELECT * FROM crime_parquet\n",
        "WHERE CAST(reference_date as DATE) \n",
        "    BETWEEN DATE '2014-12-01' AND DATE '2014-12-31';\n",
        "```\n",
        "![](https://raw.githubusercontent.com/TheuSouza/Curso_AnalistaDeDados_EBAC/refs/heads/main/Modulo_41/print/Query%202%20PARQUET.png)\n"
      ]
    },
    {
      "cell_type": "markdown",
      "metadata": {},
      "source": [
        "- **CSV**: 47,60 MB  \n",
        "- **Parquet**: 979.41 KB\n",
        "\n",
        "O arquivo Parquet foi aproximadamente **48 vezes menor** que o arquivo CSV.\n",
        "\n",
        "___"
      ]
    },
    {
      "cell_type": "markdown",
      "metadata": {},
      "source": [
        "**Query 3 CSV:**\n",
        "\n",
        "```sql\n",
        "SELECT \"location_description\", count(1) AS \"amount\" FROM crime_csv\n",
        "WHERE CAST(reference_date as DATE) \n",
        "    BETWEEN DATE '2014-12-01' AND DATE '2014-12-31'\n",
        "GROUP BY 1\n",
        "ORDER BY 2 DESC;\n",
        "```\n",
        "![](https://raw.githubusercontent.com/TheuSouza/Curso_AnalistaDeDados_EBAC/refs/heads/main/Modulo_41/print/Query%203%20CSV.png)\n"
      ]
    },
    {
      "cell_type": "markdown",
      "metadata": {},
      "source": [
        "**Query 3 PARQUET:**\n",
        "\n",
        "```sql\n",
        "SELECT \"location_description\", count(1) AS \"amount\" FROM crime_parquet\n",
        "WHERE CAST(reference_date as DATE) \n",
        "    BETWEEN DATE '2014-12-01' AND DATE '2014-12-31'\n",
        "GROUP BY 1\n",
        "ORDER BY 2 DESC;\n",
        "```\n",
        "![](https://raw.githubusercontent.com/TheuSouza/Curso_AnalistaDeDados_EBAC/refs/heads/main/Modulo_41/print/Query%203%20PARQUET.png)\n"
      ]
    },
    {
      "cell_type": "markdown",
      "metadata": {},
      "source": [
        "- **CSV**: 47,60 MB  \n",
        "- **Parquet**: 35.36 KB\n",
        "\n",
        "O arquivo Parquet foi aproximadamente **1.346 vezes menor** que o arquivo CSV.\n",
        "\n",
        "___"
      ]
    }
  ],
  "metadata": {
    "colab": {
      "collapsed_sections": [
        "JG1HL69-j0lH",
        "s_Dj-BgThLg5",
        "jeEzLmuRhDQy",
        "PoTeRwlihDQ0",
        "QpMlxqRyhDQ1",
        "ov7Fg-mWhDQ1",
        "DvHPNAoPgdiG",
        "3SMp5GwjglJm",
        "e3ieQfXTgqd3",
        "L0pKWNr5fm9z",
        "DMhCpOU_gupo",
        "l3h0WP2Eg2ht",
        "rWG4Vk6XaWtf",
        "wkibgd8rB8y3",
        "IjPaJtnYE0MI",
        "2lpj1rszc--m",
        "HnWg_mhLd5gC",
        "RhqmXiHQo-is",
        "SvT9xrajLL7J",
        "91eSyA2cLLqv"
      ],
      "name": "modulo_42_exercicio.ipynb",
      "provenance": [],
      "toc_visible": true
    },
    "kernelspec": {
      "display_name": "Python 3",
      "name": "python3"
    },
    "language_info": {
      "codemirror_mode": {
        "name": "ipython",
        "version": 3
      },
      "file_extension": ".py",
      "mimetype": "text/x-python",
      "name": "python",
      "nbconvert_exporter": "python",
      "pygments_lexer": "ipython3",
      "version": "3.12.7"
    }
  },
  "nbformat": 4,
  "nbformat_minor": 0
}
