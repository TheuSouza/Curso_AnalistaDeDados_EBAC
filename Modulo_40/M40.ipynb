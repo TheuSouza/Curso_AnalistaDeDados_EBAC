{
 "cells": [
  {
   "cell_type": "markdown",
   "id": "6a3f262b",
   "metadata": {},
   "source": [
    "# **Módulo 40**\n",
    "\n",
    "___\n",
    "\n",
    "###  Pandas"
   ]
  },
  {
   "cell_type": "code",
   "execution_count": 61,
   "id": "1c1d413f",
   "metadata": {},
   "outputs": [],
   "source": [
    "import pandas as pd"
   ]
  },
  {
   "cell_type": "markdown",
   "id": "b7b96a6e",
   "metadata": {},
   "source": [
    "Criei uma lista com as colunas de interesse, usei pandas para ler o arquivo CSV."
   ]
  },
  {
   "cell_type": "code",
   "execution_count": 62,
   "id": "03ac462f",
   "metadata": {},
   "outputs": [],
   "source": [
    "columns = ['Description', 'Population (GB+NI)', 'Unemployment rate']\n",
    "\n",
    "data = pd.read_csv('https://raw.githubusercontent.com/cluster-apps-on-docker/spark-standalone-cluster-on-docker/master/build/workspace/data/uk-macroeconomic-data.csv', usecols=columns)"
   ]
  },
  {
   "cell_type": "markdown",
   "id": "d4a1f856",
   "metadata": {},
   "source": [
    "Salvei o Arquivo Bruto sem nenhum tipo de tratamento para utiliza-lo com o Apache Spark."
   ]
  },
  {
   "cell_type": "code",
   "execution_count": 63,
   "id": "76b10b86",
   "metadata": {},
   "outputs": [],
   "source": [
    "data.to_csv('uk-macroeconomic-data.csv', index=False)"
   ]
  },
  {
   "cell_type": "markdown",
   "id": "2bc39b39",
   "metadata": {},
   "source": [
    "##### Passos realizados:\n",
    "1. Remoção da primeira linha do DataFrame, que continha dados irrelevantes.\n",
    "2. Renomeação das colunas.\n",
    "3. Eliminação de linhas com valores nulos para garantir a integridade dos dados.\n",
    "4. Ordenação do DataFrame com base na coluna `Year` em ordem decrescente, seguida do reset do índice.\n"
   ]
  },
  {
   "cell_type": "code",
   "execution_count": 64,
   "id": "e42189c7",
   "metadata": {},
   "outputs": [],
   "source": [
    "data.drop(index=0, inplace=True)"
   ]
  },
  {
   "cell_type": "code",
   "execution_count": 65,
   "id": "50ca433e",
   "metadata": {},
   "outputs": [],
   "source": [
    "data =  data.rename(columns={'Description': 'year', 'Population (GB+NI)': 'population', 'Unemployment rate': 'unemployment_rate'})"
   ]
  },
  {
   "cell_type": "code",
   "execution_count": 66,
   "id": "9941cee2",
   "metadata": {},
   "outputs": [],
   "source": [
    "data = data.dropna()"
   ]
  },
  {
   "cell_type": "code",
   "execution_count": 67,
   "id": "0f125144",
   "metadata": {},
   "outputs": [],
   "source": [
    "data = data.sort_values('year', ascending=False).reset_index(drop=True)"
   ]
  },
  {
   "cell_type": "code",
   "execution_count": 68,
   "id": "1f38d088",
   "metadata": {},
   "outputs": [
    {
     "data": {
      "text/html": [
       "<div>\n",
       "<style scoped>\n",
       "    .dataframe tbody tr th:only-of-type {\n",
       "        vertical-align: middle;\n",
       "    }\n",
       "\n",
       "    .dataframe tbody tr th {\n",
       "        vertical-align: top;\n",
       "    }\n",
       "\n",
       "    .dataframe thead th {\n",
       "        text-align: right;\n",
       "    }\n",
       "</style>\n",
       "<table border=\"1\" class=\"dataframe\">\n",
       "  <thead>\n",
       "    <tr style=\"text-align: right;\">\n",
       "      <th></th>\n",
       "      <th>year</th>\n",
       "      <th>population</th>\n",
       "      <th>unemployment_rate</th>\n",
       "    </tr>\n",
       "  </thead>\n",
       "  <tbody>\n",
       "    <tr>\n",
       "      <th>0</th>\n",
       "      <td>2016</td>\n",
       "      <td>65573</td>\n",
       "      <td>4.90</td>\n",
       "    </tr>\n",
       "    <tr>\n",
       "      <th>1</th>\n",
       "      <td>2015</td>\n",
       "      <td>65110</td>\n",
       "      <td>5.38</td>\n",
       "    </tr>\n",
       "    <tr>\n",
       "      <th>2</th>\n",
       "      <td>2014</td>\n",
       "      <td>64597</td>\n",
       "      <td>6.18</td>\n",
       "    </tr>\n",
       "    <tr>\n",
       "      <th>3</th>\n",
       "      <td>2013</td>\n",
       "      <td>64106</td>\n",
       "      <td>7.61</td>\n",
       "    </tr>\n",
       "    <tr>\n",
       "      <th>4</th>\n",
       "      <td>2012</td>\n",
       "      <td>63705</td>\n",
       "      <td>7.97</td>\n",
       "    </tr>\n",
       "  </tbody>\n",
       "</table>\n",
       "</div>"
      ],
      "text/plain": [
       "   year population unemployment_rate\n",
       "0  2016      65573              4.90\n",
       "1  2015      65110              5.38\n",
       "2  2014      64597              6.18\n",
       "3  2013      64106              7.61\n",
       "4  2012      63705              7.97"
      ]
     },
     "execution_count": 68,
     "metadata": {},
     "output_type": "execute_result"
    }
   ],
   "source": [
    "data.head()"
   ]
  },
  {
   "cell_type": "markdown",
   "id": "e3bc4a5d",
   "metadata": {},
   "source": [
    "___\n",
    "\n",
    "### PySpark"
   ]
  },
  {
   "cell_type": "code",
   "execution_count": 69,
   "id": "dcd701f7",
   "metadata": {},
   "outputs": [],
   "source": [
    "from pyspark.sql import SparkSession\n",
    "from pyspark.sql.functions import broadcast\n",
    "from pyspark.sql.functions import col"
   ]
  },
  {
   "cell_type": "markdown",
   "id": "0e74d8d7",
   "metadata": {},
   "source": [
    "Fiz o download do Java e do Spark no meu computador. Em seguida, criei as variáveis de ambiente no sistema, apontando para os diretórios onde os arquivos foram instalados. Por fim, criei o objeto `spark`."
   ]
  },
  {
   "cell_type": "code",
   "execution_count": 70,
   "id": "5d1aadaf",
   "metadata": {},
   "outputs": [],
   "source": [
    "spark = SparkSession.builder.master('local[*]').appName('pyspark-notebook').getOrCreate()"
   ]
  },
  {
   "cell_type": "markdown",
   "id": "8f8ac560",
   "metadata": {},
   "source": [
    "Fiz a leitura do arquivo CSV. Nesse caso, não foi necessário selecionar as colunas de interesse,  \n",
    "pois isso já havia sido feito no momento do download, no início do código. Foi necessário apenas renomear as colunas."
   ]
  },
  {
   "cell_type": "code",
   "execution_count": 71,
   "id": "eccd0a69",
   "metadata": {},
   "outputs": [],
   "source": [
    "data_spark = spark.read.csv('uk-macroeconomic-data.csv', sep=',', header=True)"
   ]
  },
  {
   "cell_type": "code",
   "execution_count": 72,
   "id": "4dbdbc8c",
   "metadata": {},
   "outputs": [],
   "source": [
    "data_spark = data_spark.withColumnRenamed('Description', 'year').\\\n",
    "                        withColumnRenamed('Population (GB+NI)', 'population').\\\n",
    "                        withColumnRenamed('Unemployment rate', 'unemployment_rate')"
   ]
  },
  {
   "cell_type": "markdown",
   "id": "b70e3629",
   "metadata": {},
   "source": [
    "Filter, Join e Dropna como ensinado nas aulas."
   ]
  },
  {
   "cell_type": "code",
   "execution_count": 73,
   "id": "11371133",
   "metadata": {},
   "outputs": [
    {
     "name": "stdout",
     "output_type": "stream",
     "text": [
      "+-----+----------+-----------------+\n",
      "| year|population|unemployment_rate|\n",
      "+-----+----------+-----------------+\n",
      "|Units|      000s|                %|\n",
      "+-----+----------+-----------------+\n",
      "\n"
     ]
    }
   ],
   "source": [
    "data_drop = data_spark.filter(data_spark.year == 'Units')\n",
    "\n",
    "data_drop.show()"
   ]
  },
  {
   "cell_type": "code",
   "execution_count": 74,
   "id": "1a4918ad",
   "metadata": {},
   "outputs": [],
   "source": [
    "data_spark =  data_spark.join(other=broadcast(data_drop), on=['year'], how='left_anti')"
   ]
  },
  {
   "cell_type": "code",
   "execution_count": 75,
   "id": "3aba9ab2",
   "metadata": {},
   "outputs": [],
   "source": [
    "data_spark = data_spark.dropna()"
   ]
  },
  {
   "cell_type": "markdown",
   "id": "ee23bf6c",
   "metadata": {},
   "source": [
    "Ordenei o Dataframe com base na coluna `year` utilizando a função `col` combinada com `desc()` para aplicar a ordenação de forma decrescente."
   ]
  },
  {
   "cell_type": "code",
   "execution_count": 76,
   "id": "4d3082a4",
   "metadata": {},
   "outputs": [],
   "source": [
    "data_spark = data_spark.orderBy(col('year').desc())"
   ]
  },
  {
   "cell_type": "code",
   "execution_count": 77,
   "id": "f75b6e76",
   "metadata": {},
   "outputs": [
    {
     "name": "stdout",
     "output_type": "stream",
     "text": [
      "+----+----------+-----------------+\n",
      "|year|population|unemployment_rate|\n",
      "+----+----------+-----------------+\n",
      "|2016|     65573|             4.90|\n",
      "|2015|     65110|             5.38|\n",
      "|2014|     64597|             6.18|\n",
      "|2013|     64106|             7.61|\n",
      "|2012|     63705|             7.97|\n",
      "|2011|     63285|             8.11|\n",
      "|2010|     62759|             7.87|\n",
      "|2009|     62260|             7.61|\n",
      "|2008|     61824|             5.69|\n",
      "|2007|     61319|             5.33|\n",
      "+----+----------+-----------------+\n",
      "only showing top 10 rows\n",
      "\n"
     ]
    }
   ],
   "source": [
    "data_spark.show(n=10)"
   ]
  }
 ],
 "metadata": {
  "kernelspec": {
   "display_name": "Python 3",
   "language": "python",
   "name": "python3"
  },
  "language_info": {
   "codemirror_mode": {
    "name": "ipython",
    "version": 3
   },
   "file_extension": ".py",
   "mimetype": "text/x-python",
   "name": "python",
   "nbconvert_exporter": "python",
   "pygments_lexer": "ipython3",
   "version": "3.12.7"
  }
 },
 "nbformat": 4,
 "nbformat_minor": 5
}
