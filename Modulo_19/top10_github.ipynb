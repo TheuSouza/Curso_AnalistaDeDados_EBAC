{
 "cells": [
  {
   "cell_type": "markdown",
   "metadata": {},
   "source": [
    "Bibliotecas e módulos necessarios."
   ]
  },
  {
   "cell_type": "code",
   "execution_count": 1,
   "metadata": {},
   "outputs": [],
   "source": [
    "from bs4 import BeautifulSoup\n",
    "import csv\n",
    "import requests\n",
    "from requests.exceptions import Timeout, RequestException, HTTPError"
   ]
  },
  {
   "cell_type": "markdown",
   "metadata": {},
   "source": [
    "Nesse trecho de código estou fazendo a requisição e tratando possíveis erros."
   ]
  },
  {
   "cell_type": "code",
   "execution_count": 2,
   "metadata": {},
   "outputs": [],
   "source": [
    "URL = 'https://github.com/trending?spoken_language_code='\n",
    "conteudo = None\n",
    "\n",
    "try:\n",
    "    resposta = requests.get(URL)\n",
    "    resposta.raise_for_status()\n",
    "\n",
    "except HTTPError as err_http:\n",
    "    print(f'Erro de HTTP: {err_http}')\n",
    "\n",
    "except ConnectionError as err_conn:\n",
    "    print(f'Erro de conexão: {err_conn}')\n",
    "\n",
    "except Timeout as err_timeout:\n",
    "    print(f'Tempo de resposta excedido: {err_timeout}')\n",
    "\n",
    "except RequestException as err_req:\n",
    "    print(f'Erro na requisição: {err_req}')\n",
    "\n",
    "except Exception as exc:\n",
    "    print(f'Ocorreu um erro inesperado: {exc}')\n",
    "\n",
    "else:\n",
    "    conteudo = resposta.text\n"
   ]
  },
  {
   "cell_type": "markdown",
   "metadata": {},
   "source": [
    "Criando um objeto **bs4** com o conteúdo da requisição e selecionando a **class** que contém as informações de interesse."
   ]
  },
  {
   "cell_type": "code",
   "execution_count": 3,
   "metadata": {},
   "outputs": [],
   "source": [
    "pagina = BeautifulSoup(conteudo, 'html.parser')\n",
    "projetos = pagina.find_all('article', class_='Box-row')\n"
   ]
  },
  {
   "cell_type": "markdown",
   "metadata": {},
   "source": [
    "Extraindo os dados, filtrando e limpando as informações de interesse, trasformando cada projeto e suas informações em uma lista e por fim adicionando a variável **conteudo_extraido**."
   ]
  },
  {
   "cell_type": "code",
   "execution_count": 4,
   "metadata": {},
   "outputs": [],
   "source": [
    "conteudo_extraido = list()\n",
    "ranking = 1\n",
    "\n",
    "for projeto in projetos[:10]:\n",
    "    nome = projeto.h2.a.text.split()[-1]\n",
    "    informacoes = projeto.find('div', class_='f6 color-fg-muted mt-2').text.split()[:6]\n",
    "    del informacoes[3:5]\n",
    "    informacoes.insert(0, nome)\n",
    "    informacoes.insert(0, ranking)\n",
    "    ranking += 1\n",
    "    conteudo_extraido.append(informacoes)\n"
   ]
  },
  {
   "cell_type": "markdown",
   "metadata": {},
   "source": [
    "Escrevendo o arquivo **CSV** com os **TOP 10** projetos do Github."
   ]
  },
  {
   "cell_type": "code",
   "execution_count": 5,
   "metadata": {},
   "outputs": [],
   "source": [
    "with open('github.csv', mode='w', encoding='utf-8') as arquivo:\n",
    "    arquivo_csv = csv.writer(arquivo, delimiter=';')\n",
    "    arquivo_csv.writerows([['ranking', 'project', 'language', 'stars', 'forks', 'stars_today']] + list(map(lambda row: row, conteudo_extraido)))"
   ]
  }
 ],
 "metadata": {
  "kernelspec": {
   "display_name": "Python 3",
   "language": "python",
   "name": "python3"
  },
  "language_info": {
   "codemirror_mode": {
    "name": "ipython",
    "version": 3
   },
   "file_extension": ".py",
   "mimetype": "text/x-python",
   "name": "python",
   "nbconvert_exporter": "python",
   "pygments_lexer": "ipython3",
   "version": "3.12.7"
  }
 },
 "nbformat": 4,
 "nbformat_minor": 2
}
