{
 "cells": [
  {
   "cell_type": "markdown",
   "metadata": {
    "id": "QRcqbpLpFK5o"
   },
   "source": [
    "# **Análise de Dados COVID-19**"
   ]
  },
  {
   "cell_type": "markdown",
   "metadata": {},
   "source": [
    "## 1\\. Introdução\n",
    "\n",
    "### **1.1. TLDR**\n",
    "\n",
    " - **Dashboard**:\n",
    "  - Google Data Studio ([link](https://lookerstudio.google.com/reporting/fd8ffb38-fc58-4cba-be56-3d051f15dccc)).\n",
    " - **Processamento**:\n",
    "  - Kaggle Notebook ([link](https://www.kaggle.com/code/theu011/an-lise-de-dados-covid-19)).\n",
    " - **Fontes**:\n",
    "  - Casos pela universidade John Hopkins ([link](https://github.com/CSSEGISandData/COVID-19/tree/master/csse_covid_19_data/csse_covid_19_daily_reports));\n",
    "  - Vacinação pela universidade de Oxford ([link](https://covid.ourworldindata.org/data/owid-covid-data.csv))."
   ]
  },
  {
   "cell_type": "markdown",
   "metadata": {},
   "source": [
    "### **1.2. Pandemia Coronavírus 2019**\n",
    "\n",
    "> A COVID-19 é uma infecção respiratória aguda causada pelo coronavírus SARS-CoV-2, potencialmente grave, de elevada transmissibilidade e de distribuição global, tornou-se um dos maiores desafios globais das últimas décadas, afetando milhões de vidas em todo o mundo. Desde seu surgimento no final de 2019, a disseminação do vírus gerou impactos significativos em áreas como saúde pública, economia e políticas governamentais."
   ]
  },
  {
   "cell_type": "markdown",
   "metadata": {},
   "source": [
    "### **1.3\\. Contexto**\n",
    "Nesta análise exploratória de dados (EDA), buscamos compreender os principais padrões e tendências da pandemia de COVID-19, explorando um conjunto de dados históricos que abrange casos confirmados e mortes.  \n",
    "Esses dados foram coletados e organizados de maneira a permitir uma segmentação detalhada por regiões geográficas, períodos de tempo e outras dimensões relevantes.\n",
    "\n",
    "Utilizando técnicas avançadas de visualização de dados e estatísticas descritivas, investigamos a evolução temporal da pandemia, identificando marcos significativos como picos de infecção e períodos de declínio.  \n",
    "Além disso, a análise permitirá destacar o impacto do vírus em diferentes regiões, revelando quais áreas foram mais severamente atingidas.\n",
    "\n",
    "---"
   ]
  },
  {
   "cell_type": "markdown",
   "metadata": {
    "id": "6-CvdKwqFPiW"
   },
   "source": [
    "## 2\\. Análise Exploratória de Dados\n"
   ]
  },
  {
   "cell_type": "markdown",
   "metadata": {},
   "source": [
    "#### **Pacotes e bibliotecas**"
   ]
  },
  {
   "cell_type": "code",
   "execution_count": 142,
   "metadata": {
    "id": "VXUEW0VrF7XW"
   },
   "outputs": [],
   "source": [
    "from datetime import datetime, timedelta\n",
    "\n",
    "import pandas as pd\n",
    "import numpy as np"
   ]
  },
  {
   "cell_type": "code",
   "execution_count": 143,
   "metadata": {},
   "outputs": [],
   "source": [
    "def date_range(start_date: datetime, end_date: datetime):\n",
    "\n",
    "    date = start_date\n",
    "    while date < end_date:\n",
    "        yield date\n",
    "        date += timedelta(days=1)\n",
    "\n",
    "\n",
    "def get_trend(rate: float):\n",
    "  \n",
    "  if np.isnan(rate):\n",
    "    return np.nan\n",
    "\n",
    "  if rate < 0.85:\n",
    "    status = 'downward'\n",
    "  elif rate > 1.15:\n",
    "    status = 'upward'\n",
    "  else:\n",
    "    status = 'stable'\n",
    "\n",
    "  return status"
   ]
  },
  {
   "cell_type": "markdown",
   "metadata": {},
   "source": [
    "### 2.1. Casos Covid\n",
    "\n",
    "Os dados sobre **casos da COVID-19** são compilados pelo centro de ciência de sistemas e engenharia da universidade americana **John Hopkins** ([link](https://www.jhu.edu)). Os dados são atualizados diariamente deste janeiro de 2020 com uma granularidade temporal de dias e geográfica de regiões de países (estados, condados, etc.). O website do projeto pode ser acessado neste [link](https://systems.jhu.edu/research/public-health/ncov/) enquanto os dados, neste [link](https://github.com/CSSEGISandData/COVID-19/tree/master/csse_covid_19_data/csse_covid_19_daily_reports). Abaixo estão descritos os dados derivados do seu processamento.\n",
    "\n",
    " - **date**: data de referência;\n",
    " - **state**: estado;\n",
    " - **country**: país;\n",
    " - **population**: população estimada;\n",
    " - **confirmed**: número acumulado de infectados;\n",
    " - **confirmed_per_day**: número diário de infectados;\n",
    " - **confirmed_moving_avg_7day**: média móvel de 7 dias do número diário de infectados;\n",
    " - **confirmed_moving_avg_7day_rate_14day**: média móvel de 7 dias dividido pela média móvel de 7 dias de 14 dias atrás;\n",
    " - **deaths**: número acumulado de mortos;\n",
    " - **deaths_per_day**: número diário de mortos;\n",
    " - **deaths_moving_avg_7day**: média móvel de 7 dias do número diário de mortos;\n",
    " - **deaths_moving_avg_7day_rate_14day**: média móvel de 7 dias dividido pela média móvel de 7 dias de 14 dias atrás;\n",
    " - **day**: dia de referência;\n",
    " - **month**: mês de referência."
   ]
  },
  {
   "cell_type": "markdown",
   "metadata": {
    "id": "irQxHW1zGkdZ"
   },
   "source": [
    "#### **2.1.1\\. Extração**"
   ]
  },
  {
   "cell_type": "markdown",
   "metadata": {},
   "source": [
    "Define a data inicial e final da coleta de dados."
   ]
  },
  {
   "cell_type": "code",
   "execution_count": 144,
   "metadata": {},
   "outputs": [],
   "source": [
    "start_date = datetime(2021,  1,  1)\n",
    "end_date   = datetime(2021, 12, 31)"
   ]
  },
  {
   "cell_type": "markdown",
   "metadata": {},
   "source": [
    "Utiliza a função **`date_range`** em um laço **`for`** para iterar sobre o intervalo de datas especificado (`start_date` e `end_date`).  \n",
    "\n",
    "Altera a string da **URL** dos dados, montando o caminho para o arquivo CSV diário correspondente a cada data.  \n",
    "\n",
    "Carrega o arquivo CSV em um DataFrame chamado **`case`**.  \n",
    "\n",
    "Dropa as colunas que não têm interesse com o método **`drop`**, mantendo apenas as informações relevantes.  \n",
    "\n",
    "Em **`case.query`**, seleciona os países de interesse.\n",
    "\n",
    "Define a coluna **`Date`** para o tipo **`datetime`** e formata com a data correspondente ao arquivo atual.  \n",
    "\n",
    "Verifica se **`cases_is_empty`** é `True`:  \n",
    "   - Se for, atribui o DataFrame **`case`** diretamente a **`cases`** e marca **`cases_is_empty`** como `False`.  \n",
    "   - Caso contrário, concatena o DataFrame atual (**`case`**) ao DataFrame consolidado (**`cases`**) com o método **`pd.concat`**.  \n",
    "\n",
    "O resultado final será um DataFrame chamado **`cases`**, contendo dados combinados de todos os dias do intervalo, com informações filtradas e organizadas.  \n"
   ]
  },
  {
   "cell_type": "code",
   "execution_count": 145,
   "metadata": {},
   "outputs": [],
   "source": [
    "cases = None\n",
    "cases_is_empty = True\n",
    "\n",
    "for date in date_range(start_date=start_date, end_date=end_date):\n",
    "\n",
    "    date_str = date.strftime('%m-%d-%Y')\n",
    "    data_source_url = f'https://raw.githubusercontent.com/CSSEGISandData/COVID-19/master/csse_covid_19_data/csse_covid_19_daily_reports/{date_str}.csv'\n",
    "\n",
    "    case = pd.read_csv(data_source_url, sep=',')\n",
    "    case = case.drop(['FIPS', 'Admin2', 'Last_Update', 'Lat', 'Long_', 'Recovered', 'Active', 'Combined_Key', 'Case_Fatality_Ratio'], axis=1)\n",
    "    case = case.query('Country_Region in [\"Brazil\", \"Japan\", \"China\", \"Russia\", \"France\", \"Italy\", \"Ukraine\", \"Spain\", \"Canada\", \"Mexico\", \"Peru\", \"Colombia\"]').reset_index(drop=True)\n",
    "    case['Date'] = pd.to_datetime(date.strftime('%Y-%m-%d'))\n",
    "\n",
    "    if cases_is_empty:\n",
    "        cases = case\n",
    "        cases_is_empty = False\n",
    "    else:\n",
    "        cases = pd.concat([cases, case], axis=0, ignore_index=True)"
   ]
  },
  {
   "cell_type": "markdown",
   "metadata": {},
   "source": [
    "Salva o DataFrame consolidado **`cases`** em um arquivo CSV chamado `cases_covid.csv`.  \n",
    "Redefine a variável **`cases`** como `None`, liberando memória e sinalizando que o DataFrame não está mais em uso.\n"
   ]
  },
  {
   "cell_type": "code",
   "execution_count": 146,
   "metadata": {},
   "outputs": [],
   "source": [
    "cases.to_csv('cases_covid.csv', sep=',', index=False)\n",
    "cases = None"
   ]
  },
  {
   "cell_type": "markdown",
   "metadata": {},
   "source": [
    "Carrega o arquivo CSV `cases_covid.csv` em um DataFrame chamado **`cases_covid`**.  \n",
    "O parâmetro `parse_dates=[-1]` converte automaticamente a última coluna do arquivo em formato de data (`datetime`).  \n"
   ]
  },
  {
   "cell_type": "code",
   "execution_count": 147,
   "metadata": {},
   "outputs": [],
   "source": [
    "cases_covid = pd.read_csv('cases_covid.csv', sep=',', parse_dates=[-1])"
   ]
  },
  {
   "cell_type": "markdown",
   "metadata": {
    "id": "98hexQTyJS9I"
   },
   "source": [
    "#### **2.1.2\\. Transformação**"
   ]
  },
  {
   "cell_type": "markdown",
   "metadata": {},
   "source": [
    "Renomeia as colunas no DataFrame"
   ]
  },
  {
   "cell_type": "code",
   "execution_count": 148,
   "metadata": {},
   "outputs": [],
   "source": [
    "cases_covid =  cases_covid.rename(columns={\n",
    "    'Province_State': 'state',\n",
    "    'Country_Region': 'country'\n",
    "})"
   ]
  },
  {
   "cell_type": "markdown",
   "metadata": {},
   "source": [
    "O método **`rename`** é utilizado com uma função **lambda** para transformar todos os nomes de colunas do DataFrame **`cases_covid`** em letras minúsculas.  "
   ]
  },
  {
   "cell_type": "code",
   "execution_count": 149,
   "metadata": {},
   "outputs": [],
   "source": [
    "cases_covid = cases_covid.rename(columns=lambda col: col.lower())"
   ]
  },
  {
   "cell_type": "markdown",
   "metadata": {},
   "source": [
    "Define um dicionário que contém mapeamentos de nomes de estados brasileiros sem acentos para suas respectivas versões acentuadas.   \n",
    "A coluna **`state`** do DataFrame **`cases_covid`** é atualizada utilizando o método **`apply`** com uma função **lambda**.  "
   ]
  },
  {
   "cell_type": "code",
   "execution_count": 150,
   "metadata": {},
   "outputs": [],
   "source": [
    "states_map = {\n",
    "    'Amapa': 'Amapá',\n",
    "    'Ceara': 'Ceará',\n",
    "    'Espirito Santo': 'Espírito Santo',\n",
    "    'Goias': 'Goiás',\n",
    "    'Para': 'Pará',\n",
    "    'Paraiba': 'Paraíba',\n",
    "    'Parana': 'Paraná',\n",
    "    'Piaui': 'Piauí',\n",
    "    'Rondonia': 'Rondônia',\n",
    "    'Sao Paulo': 'São Paulo'\n",
    "}\n",
    "\n",
    "cases_covid['state'] = cases_covid['state'].apply(lambda state: states_map.get(state) if state in states_map.keys() else state)"
   ]
  },
  {
   "cell_type": "markdown",
   "metadata": {},
   "source": [
    "Cria uma nova coluna chamada **`day`** e outra chamada **`month`** no DataFrame **`cases_covid`**.  \n",
    "O atributo **`.dt.day`** extrai o número correspondente ao dia do mês (1 a 31).  \n",
    "O atributo **`.dt.month`** extrai o número correspondente ao mês (1 para janeiro, 2 para fevereiro, etc.).  \n"
   ]
  },
  {
   "cell_type": "code",
   "execution_count": 151,
   "metadata": {},
   "outputs": [],
   "source": [
    "cases_covid['day'] = pd.to_datetime(cases_covid['date']).dt.day\n",
    "cases_covid['month'] = pd.to_datetime(cases_covid['date']).dt.month"
   ]
  },
  {
   "cell_type": "markdown",
   "metadata": {},
   "source": [
    "Aplica o método **`ffill`** ao DataFrame **`cases_covid`**, preenchendo os valores ausentes (`NaN`) de cada coluna com o último valor válido encontrado acima na mesma coluna.  \n",
    "Caso o primeiro valor seja ausente, ele permanecerá como `NaN`, já que não há valores acima para preencher."
   ]
  },
  {
   "cell_type": "code",
   "execution_count": 152,
   "metadata": {},
   "outputs": [],
   "source": [
    "cases_covid = cases_covid.ffill()"
   ]
  },
  {
   "cell_type": "markdown",
   "metadata": {},
   "source": [
    "Cria uma nova coluna chamada **`population`** no DataFrame **`cases_covid`**. Adicionar uma estimativa da população com base nos dados disponíveis.  \n",
    "Remove a coluna **`incident_rate`**, pois ela já foi utilizada para calcular a população e não é mais necessária para análises subsequentes."
   ]
  },
  {
   "cell_type": "code",
   "execution_count": 153,
   "metadata": {},
   "outputs": [],
   "source": [
    "cases_covid['population'] = round(100000 * (cases_covid['confirmed'] / cases_covid['incident_rate']))\n",
    "cases_covid = cases_covid.drop('incident_rate', axis=1)"
   ]
  },
  {
   "cell_type": "markdown",
   "metadata": {},
   "source": [
    "**`cases = None`** e **`cases_is_empty = True`** são usados para controlar o início do DataFrame e quando concatenar os resultados.\n",
    "\n",
    "O loop percorre todos os estados únicos em **`cases_covid['state']`**.\n",
    "\n",
    "Para cada estado, os dados são filtrados e ordenados. Calculam-se as métricas diárias e médias móveis para casos confirmados e óbitos, incluindo tendências com a função **`get_trend`**.\n",
    "\n",
    "Os dados processados de cada estado são concatenados ao DataFrame **`cases`**.\n",
    "\n",
    "O DataFrame consolidado é atribuído a **`cases_covid`**, e **`cases`** é redefinido como **`None`** para liberar memória."
   ]
  },
  {
   "cell_type": "code",
   "execution_count": 154,
   "metadata": {},
   "outputs": [],
   "source": [
    "cases = None\n",
    "cases_is_empty = True\n",
    "\n",
    "for state in cases_covid['state'].drop_duplicates():\n",
    "    cases_per_state = cases_covid.query(f'state == \"{state}\"').reset_index(drop=True)\n",
    "    cases_per_state = cases_per_state.sort_values(by=['date'])\n",
    "\n",
    "    cases_per_state['confirmed_per_day'] = cases_per_state['confirmed'].diff(periods=1)\n",
    "    cases_per_state['confirmed_per_day'] = cases_per_state['confirmed_per_day'].clip(lower=0)\n",
    "    cases_per_state['confirmed_moving_avg_7day'] = np.ceil(cases_per_state['confirmed_per_day'].rolling(window=7).mean())\n",
    "    cases_per_state['confirmed_moving_avg_7day_rate_14day'] = cases_per_state['confirmed_moving_avg_7day'] / cases_per_state['confirmed_moving_avg_7day'].shift(periods=14)\n",
    "    cases_per_state['confirmed_trend'] = cases_per_state['confirmed_moving_avg_7day_rate_14day'].apply(get_trend)\n",
    "\n",
    "    cases_per_state['deaths_per_day'] = cases_per_state['deaths'].diff(periods=1)\n",
    "    cases_per_state['deaths_per_day'] = cases_per_state['deaths_per_day'].clip(lower=0)\n",
    "    cases_per_state['deaths_moving_avg_7day'] = np.ceil(cases_per_state['deaths_per_day'].rolling(window=7).mean())\n",
    "    cases_per_state['deaths_moving_avg_7day_rate_14day'] = cases_per_state['deaths_moving_avg_7day'] / cases_per_state['deaths_moving_avg_7day'].shift(periods=14)\n",
    "    cases_per_state['deaths_trend'] = cases_per_state['deaths_moving_avg_7day_rate_14day'].apply(get_trend)\n",
    "\n",
    "    if cases_is_empty:\n",
    "        cases = cases_per_state\n",
    "        cases_is_empty = False\n",
    "    else:\n",
    "        cases = pd.concat([cases, cases_per_state], axis=0, ignore_index=True)\n",
    "\n",
    "\n",
    "cases_covid = cases\n",
    "cases = None"
   ]
  },
  {
   "cell_type": "markdown",
   "metadata": {},
   "source": [
    "Utiliza `astype('Int64')` nas colunas numéricas, como população, casos confirmados, e óbitos, garantindo que estejam no formato adequado, facilitando cálculos e análises subsequentes.  "
   ]
  },
  {
   "cell_type": "code",
   "execution_count": 155,
   "metadata": {},
   "outputs": [],
   "source": [
    "cases_covid['population'] = cases_covid['population'].astype('Int64')\n",
    "cases_covid['confirmed_per_day'] = cases_covid['confirmed_per_day'].astype('Int64')\n",
    "cases_covid['confirmed_moving_avg_7day'] = cases_covid['confirmed_moving_avg_7day'].astype('Int64')\n",
    "cases_covid['deaths_per_day'] = cases_covid['deaths_per_day'].astype('Int64')\n",
    "cases_covid['deaths_moving_avg_7day'] = cases_covid['deaths_moving_avg_7day'].astype('Int64')"
   ]
  },
  {
   "cell_type": "markdown",
   "metadata": {},
   "source": [
    "Ordena as colunas do Dataframe."
   ]
  },
  {
   "cell_type": "code",
   "execution_count": 156,
   "metadata": {},
   "outputs": [],
   "source": [
    "cases_covid = cases_covid[['date', 'country', 'state', 'population', 'confirmed', 'confirmed_per_day', 'confirmed_moving_avg_7day', \n",
    "    'confirmed_moving_avg_7day_rate_14day', 'confirmed_trend', 'deaths', 'deaths_per_day', 'deaths_moving_avg_7day', \n",
    "    'deaths_moving_avg_7day_rate_14day', 'deaths_trend', 'day', 'month']]"
   ]
  },
  {
   "cell_type": "markdown",
   "metadata": {
    "id": "KSgjP--1JS9R"
   },
   "source": [
    "#### **2.1.3\\. Carregamento**"
   ]
  },
  {
   "cell_type": "markdown",
   "metadata": {},
   "source": [
    "Salva o DataFrame **`cases_covid`** em um arquivo CSV chamado `covid_cases_2021.csv`.  "
   ]
  },
  {
   "cell_type": "code",
   "execution_count": 157,
   "metadata": {
    "id": "Jlj3ACWCJS9R"
   },
   "outputs": [],
   "source": [
    "cases_covid.to_csv('covid_cases_2021.csv', sep=',', index=False)"
   ]
  },
  {
   "cell_type": "markdown",
   "metadata": {},
   "source": [
    "### 2.2. Vacinas Covid\n",
    "\n",
    " Os dados sobre **vacinação da COVID-19** são compilados pelo projeto Nosso Mundo em Dados (*Our World in Data* ou OWID) da universidade britânica de **Oxford** ([link](https://www.ox.ac.uk)). Os dados são **atualizados diariamente** deste janeiro de 2020 com uma **granularidade temporal de dias e geográfica de países**. O website do projeto pode ser acessado neste [link](https://ourworldindata.org) enquanto os dados, neste [link](https://covid.ourworldindata.org/data/owid-covid-data.csv). Abaixo estão descritos os dados derivados do seu processamento.\n",
    "\n",
    "  - **date**: data de referência;\n",
    " - **country**: país;\n",
    " - **population**: população estimada;\n",
    " - **total**: número acumulado de doses administradas;\n",
    " - **one_shot**: número acumulado de pessoas com uma dose;\n",
    " - **one_shot_perc**: número acumulado relativo de pessoas com uma dose;\n",
    " - **two_shots**: número acumulado de pessoas com duas doses;\n",
    " - **two_shot_perc**: número acumulado relativo de pessoas com duas doses;\n",
    " - **three_shots**: número acumulado de pessoas com três doses;\n",
    " - **three_shot_perc**: número acumulado relativo de pessoas com três doses;\n",
    " - **day**: dia de referência;\n",
    " - **month**: mês de referência;"
   ]
  },
  {
   "cell_type": "markdown",
   "metadata": {},
   "source": [
    "#### **2.2.1\\. Extração**"
   ]
  },
  {
   "cell_type": "markdown",
   "metadata": {},
   "source": [
    "Utiliza o método **`pd.read_csv`** para ler os dados de um arquivo CSV localizado na URL.  \n",
    "Carregar os dados do arquivo CSV remoto, com especial atenção para a conversão da coluna de datas, que será útil para análise temporal."
   ]
  },
  {
   "cell_type": "code",
   "execution_count": 158,
   "metadata": {},
   "outputs": [],
   "source": [
    "vaccines = pd.read_csv('https://covid.ourworldindata.org/data/owid-covid-data.csv', sep=',', parse_dates=[3])"
   ]
  },
  {
   "cell_type": "markdown",
   "metadata": {},
   "source": [
    "Salva o DataFrame **`vaccines`** em um arquivo CSV chamado `vaccines_covid.csv`.  \n",
    "Redefine a variável **`vaccines`** como `None`, liberando memória e sinalizando que o DataFrame não está mais em uso."
   ]
  },
  {
   "cell_type": "code",
   "execution_count": 159,
   "metadata": {},
   "outputs": [],
   "source": [
    "vaccines.to_csv('vaccines_covid.csv', sep=',', index=False)\n",
    "vaccines = None"
   ]
  },
  {
   "cell_type": "markdown",
   "metadata": {},
   "source": [
    "Carrega o arquivo CSV `vaccines_covid.csv` em um DataFrame chamado **`vaccines_covid`**.  \n",
    "O parâmetro `parse_dates=[3]` converte automaticamente a coluna 4 do arquivo em formato de data (`datetime`).  "
   ]
  },
  {
   "cell_type": "code",
   "execution_count": 170,
   "metadata": {},
   "outputs": [],
   "source": [
    "vaccines_covid = pd.read_csv('vaccines_covid.csv', sep=',', parse_dates=[3])"
   ]
  },
  {
   "cell_type": "markdown",
   "metadata": {},
   "source": [
    "#### **2.2.2\\. Transformação**"
   ]
  },
  {
   "cell_type": "markdown",
   "metadata": {},
   "source": [
    "Em **`vaccines_covid.query`**, seleciona os países de interesse.  \n",
    "\n",
    "Depois seleciona as colunas de interesse.\n"
   ]
  },
  {
   "cell_type": "code",
   "execution_count": 171,
   "metadata": {},
   "outputs": [],
   "source": [
    "vaccines_covid = vaccines_covid.query('location in [\"Brazil\", \"Japan\", \"China\", \"Russia\", \"France\", \"Italy\", \"Ukraine\", \"Spain\", \"Canada\", \"Mexico\", \"Peru\", \"Colombia\"]').reset_index(drop=True)\n",
    "vaccines_covid = vaccines_covid[['location', 'population', 'total_vaccinations', 'people_vaccinated', 'people_fully_vaccinated', 'total_boosters', 'date']]"
   ]
  },
  {
   "cell_type": "markdown",
   "metadata": {},
   "source": [
    "Filtra o DataFrame **`vaccines_covid`** para incluir apenas as linhas onde a coluna **`date`** está dentro do intervalo de 1º de janeiro de 2021 até 31 de dezembro de 2021.  \n",
    "Limpa o índice do DataFrame após a filtragem, garantindo que a contagem de índices seja contínua e não haja valores de índice redundantes.\n"
   ]
  },
  {
   "cell_type": "code",
   "execution_count": 172,
   "metadata": {},
   "outputs": [],
   "source": [
    "vaccines_covid = vaccines_covid[(vaccines_covid['date'] >= '2021-01-01') & (vaccines_covid['date'] <= '2021-12-31')].reset_index(drop=True) "
   ]
  },
  {
   "cell_type": "markdown",
   "metadata": {},
   "source": [
    "Renomeia as colunas no DataFrame"
   ]
  },
  {
   "cell_type": "code",
   "execution_count": 173,
   "metadata": {},
   "outputs": [],
   "source": [
    "vaccines_covid = vaccines_covid.rename(columns={\n",
    "    'location': 'country',\n",
    "    'total_vaccinations': 'total',\n",
    "    'people_vaccinated': 'one_shot',\n",
    "    'people_fully_vaccinated': 'two_shots',\n",
    "    'total_boosters': 'three_shots',\n",
    "  })"
   ]
  },
  {
   "cell_type": "markdown",
   "metadata": {},
   "source": [
    "Cria uma nova coluna chamada **`day`** e outra chamada **`month`** no DataFrame **`vaccines_covid`**.  \n",
    "O atributo **`.dt.day`** extrai o número correspondente ao dia do mês (1 a 31).  \n",
    "O atributo **`.dt.month`** extrai o número correspondente ao mês (1 para janeiro, 2 para fevereiro, etc.).  "
   ]
  },
  {
   "cell_type": "code",
   "execution_count": 174,
   "metadata": {},
   "outputs": [],
   "source": [
    "vaccines_covid['day'] = pd.to_datetime(vaccines_covid['date']).dt.day\n",
    "vaccines_covid['month'] = pd.to_datetime(vaccines_covid['date']).dt.month"
   ]
  },
  {
   "cell_type": "markdown",
   "metadata": {},
   "source": [
    "Calcula as porcentagens de população vacinada com uma, duas e três doses da vacina, em relação à população total.  \n",
    "As porcentagens são arredondadas para quatro casas decimais para facilitar a leitura e análise dos dados.\n"
   ]
  },
  {
   "cell_type": "code",
   "execution_count": 178,
   "metadata": {},
   "outputs": [],
   "source": [
    "vaccines_covid['one_shot_perc'] = round(vaccines_covid['one_shot'] / vaccines_covid['population'], 4)\n",
    "vaccines_covid['two_shots_perc'] = round(vaccines_covid['two_shots'] / vaccines_covid['population'], 4)\n",
    "vaccines_covid['three_shots_perc'] = round(vaccines_covid['three_shots'] / vaccines_covid['population'], 4)"
   ]
  },
  {
   "cell_type": "markdown",
   "metadata": {},
   "source": [
    "Faz o *type casting* das colunas, garantindo que estejam no formato adequado, facilitando cálculos e análises subsequentes.  "
   ]
  },
  {
   "cell_type": "code",
   "execution_count": 179,
   "metadata": {},
   "outputs": [],
   "source": [
    "vaccines_covid['total'] = vaccines_covid['total'].astype('Int64')\n",
    "vaccines_covid['one_shot'] = vaccines_covid['one_shot'].astype('Int64')\n",
    "vaccines_covid['two_shots'] = vaccines_covid['two_shots'].astype('Int64')\n",
    "vaccines_covid['three_shots'] = vaccines_covid['three_shots'].astype('Int64')"
   ]
  },
  {
   "cell_type": "markdown",
   "metadata": {},
   "source": [
    "Ordena as colunas do Dataframe."
   ]
  },
  {
   "cell_type": "code",
   "execution_count": 180,
   "metadata": {},
   "outputs": [],
   "source": [
    "vaccines_covid = vaccines_covid[['date', 'country', 'population', 'total', 'one_shot', 'one_shot_perc', 'two_shots', 'two_shots_perc', 'three_shots', 'three_shots_perc', 'day', 'month']]"
   ]
  },
  {
   "cell_type": "markdown",
   "metadata": {},
   "source": [
    "#### **2.2.3\\. Carregamento**"
   ]
  },
  {
   "cell_type": "markdown",
   "metadata": {},
   "source": [
    "Salva o DataFrame **`vaccines_covid`** em um arquivo CSV chamado `vaccines_covid_2021.csv`.  "
   ]
  },
  {
   "cell_type": "code",
   "execution_count": 181,
   "metadata": {},
   "outputs": [],
   "source": [
    "vaccines_covid.to_csv('vaccines_covid_2021.csv', sep=',', index=False)"
   ]
  }
 ],
 "metadata": {
  "colab": {
   "authorship_tag": "ABX9TyPj4MLzL5w+I6yce9JlRuhG",
   "collapsed_sections": [],
   "name": "module_37_exercise.ipynb",
   "provenance": [],
   "toc_visible": true
  },
  "kernelspec": {
   "display_name": "Python 3",
   "name": "python3"
  },
  "language_info": {
   "codemirror_mode": {
    "name": "ipython",
    "version": 3
   },
   "file_extension": ".py",
   "mimetype": "text/x-python",
   "name": "python",
   "nbconvert_exporter": "python",
   "pygments_lexer": "ipython3",
   "version": "3.12.7"
  }
 },
 "nbformat": 4,
 "nbformat_minor": 0
}
