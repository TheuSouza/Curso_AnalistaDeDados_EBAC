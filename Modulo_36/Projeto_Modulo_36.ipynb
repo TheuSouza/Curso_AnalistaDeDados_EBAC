{
 "cells": [
  {
   "cell_type": "markdown",
   "metadata": {},
   "source": [
    "## **Exploração e análise de dados com SQL**"
   ]
  },
  {
   "cell_type": "markdown",
   "metadata": {},
   "source": [
    "#### Os dados representam informações de clientes de um banco e contam com as seguintes colunas:\n",
    "\n",
    "- `idade`: Idade do cliente  \n",
    "\n",
    "- `sexo`: Gênero (M/F)  \n",
    "- `dependentes`: Número de dependentes  \n",
    "- `escolaridade`: Nível de educação  \n",
    "- `estado_civil`: Estado civil  \n",
    "- `media_salario_anual`: Média salarial no ano  \n",
    "- `tipo_cartao`: Tipo de cartão de crédito  \n",
    "- `meses_de_relacionamento`: Tempo de relacionamento com o banco (em meses)  \n",
    "- `qtd_produtos`: Quantidade de produtos adquiridos  \n",
    "- `iteracoes_12m`: Interações nos últimos 12 meses  \n",
    "- `meses_inativo_12m`: Meses inativos nos últimos 12 meses  \n",
    "- `limite_credito`: Limite de crédito do cliente  \n",
    "- `valor_transacoes_12m`: Valor total das transações nos últimos 12 meses  \n",
    "- `qtd_transacoes_12m`: Quantidade de transações nos últimos 12 meses  \n"
   ]
  },
  {
   "cell_type": "markdown",
   "metadata": {},
   "source": [
    "A tabela foi criada no **AWS Athena** junto com o **S3 Bucket** com uma versão dos dados disponibilizados em:  \n",
    "\n",
    "github.com/andre-marcos-perez ([link](https://github.com/andre-marcos-perez/ebac-course-utils/blob/main/dataset/credito.csv))"
   ]
  },
  {
   "cell_type": "markdown",
   "metadata": {},
   "source": [
    "#### **Exploração e limpeza dos dados com Python:**"
   ]
  },
  {
   "cell_type": "markdown",
   "metadata": {},
   "source": [
    "Biblioteca utilizada."
   ]
  },
  {
   "cell_type": "code",
   "execution_count": 1,
   "metadata": {},
   "outputs": [],
   "source": [
    "import pandas as pd"
   ]
  },
  {
   "cell_type": "markdown",
   "metadata": {},
   "source": [
    "Carregando dados."
   ]
  },
  {
   "cell_type": "code",
   "execution_count": 2,
   "metadata": {},
   "outputs": [],
   "source": [
    "URL = 'https://raw.githubusercontent.com/andre-marcos-perez/ebac-course-utils/main/dataset/credito.csv'\n",
    "\n",
    "data = pd.read_csv(URL, sep=',')"
   ]
  },
  {
   "cell_type": "markdown",
   "metadata": {},
   "source": [
    "O arquivo contém **10.127** linhas e **16** colunas."
   ]
  },
  {
   "cell_type": "code",
   "execution_count": 3,
   "metadata": {},
   "outputs": [
    {
     "data": {
      "text/plain": [
       "(10127, 16)"
      ]
     },
     "execution_count": 3,
     "metadata": {},
     "output_type": "execute_result"
    }
   ],
   "source": [
    "data.shape"
   ]
  },
  {
   "cell_type": "markdown",
   "metadata": {},
   "source": [
    "Utilizando `data.info()`, podemos ver cada coluna e seu tipo, além da informação sobre valores nulos, que é uma informação falsa."
   ]
  },
  {
   "cell_type": "code",
   "execution_count": 4,
   "metadata": {},
   "outputs": [
    {
     "name": "stdout",
     "output_type": "stream",
     "text": [
      "<class 'pandas.core.frame.DataFrame'>\n",
      "RangeIndex: 10127 entries, 0 to 10126\n",
      "Data columns (total 16 columns):\n",
      " #   Column                   Non-Null Count  Dtype \n",
      "---  ------                   --------------  ----- \n",
      " 0   id                       10127 non-null  int64 \n",
      " 1   default                  10127 non-null  int64 \n",
      " 2   idade                    10127 non-null  int64 \n",
      " 3   sexo                     10127 non-null  object\n",
      " 4   dependentes              10127 non-null  int64 \n",
      " 5   escolaridade             10127 non-null  object\n",
      " 6   estado_civil             10127 non-null  object\n",
      " 7   salario_anual            10127 non-null  object\n",
      " 8   tipo_cartao              10127 non-null  object\n",
      " 9   meses_de_relacionamento  10127 non-null  int64 \n",
      " 10  qtd_produtos             10127 non-null  int64 \n",
      " 11  iteracoes_12m            10127 non-null  int64 \n",
      " 12  meses_inativo_12m        10127 non-null  int64 \n",
      " 13  limite_credito           10127 non-null  object\n",
      " 14  valor_transacoes_12m     10127 non-null  object\n",
      " 15  qtd_transacoes_12m       10127 non-null  int64 \n",
      "dtypes: int64(9), object(7)\n",
      "memory usage: 1.2+ MB\n"
     ]
    }
   ],
   "source": [
    "data.info()"
   ]
  },
  {
   "cell_type": "markdown",
   "metadata": {},
   "source": [
    "Foi removido colunas que não temos interesse."
   ]
  },
  {
   "cell_type": "code",
   "execution_count": 5,
   "metadata": {},
   "outputs": [],
   "source": [
    "data = data.drop(columns=['id', 'default'])"
   ]
  },
  {
   "cell_type": "markdown",
   "metadata": {},
   "source": [
    "Utilizando `data.head()` podemos verificar na linha 4 em `estado_civil` o valor **'na'** \n",
    "representa um valor nulo mas está em formato de *string*."
   ]
  },
  {
   "cell_type": "code",
   "execution_count": 6,
   "metadata": {},
   "outputs": [
    {
     "data": {
      "text/html": [
       "<div>\n",
       "<style scoped>\n",
       "    .dataframe tbody tr th:only-of-type {\n",
       "        vertical-align: middle;\n",
       "    }\n",
       "\n",
       "    .dataframe tbody tr th {\n",
       "        vertical-align: top;\n",
       "    }\n",
       "\n",
       "    .dataframe thead th {\n",
       "        text-align: right;\n",
       "    }\n",
       "</style>\n",
       "<table border=\"1\" class=\"dataframe\">\n",
       "  <thead>\n",
       "    <tr style=\"text-align: right;\">\n",
       "      <th></th>\n",
       "      <th>idade</th>\n",
       "      <th>sexo</th>\n",
       "      <th>dependentes</th>\n",
       "      <th>escolaridade</th>\n",
       "      <th>estado_civil</th>\n",
       "      <th>salario_anual</th>\n",
       "      <th>tipo_cartao</th>\n",
       "      <th>meses_de_relacionamento</th>\n",
       "      <th>qtd_produtos</th>\n",
       "      <th>iteracoes_12m</th>\n",
       "      <th>meses_inativo_12m</th>\n",
       "      <th>limite_credito</th>\n",
       "      <th>valor_transacoes_12m</th>\n",
       "      <th>qtd_transacoes_12m</th>\n",
       "    </tr>\n",
       "  </thead>\n",
       "  <tbody>\n",
       "    <tr>\n",
       "      <th>0</th>\n",
       "      <td>45</td>\n",
       "      <td>M</td>\n",
       "      <td>3</td>\n",
       "      <td>ensino medio</td>\n",
       "      <td>casado</td>\n",
       "      <td>$60K - $80K</td>\n",
       "      <td>blue</td>\n",
       "      <td>39</td>\n",
       "      <td>5</td>\n",
       "      <td>3</td>\n",
       "      <td>1</td>\n",
       "      <td>12.691,51</td>\n",
       "      <td>1.144,90</td>\n",
       "      <td>42</td>\n",
       "    </tr>\n",
       "    <tr>\n",
       "      <th>1</th>\n",
       "      <td>49</td>\n",
       "      <td>F</td>\n",
       "      <td>5</td>\n",
       "      <td>mestrado</td>\n",
       "      <td>solteiro</td>\n",
       "      <td>menos que $40K</td>\n",
       "      <td>blue</td>\n",
       "      <td>44</td>\n",
       "      <td>6</td>\n",
       "      <td>2</td>\n",
       "      <td>1</td>\n",
       "      <td>8.256,96</td>\n",
       "      <td>1.291,45</td>\n",
       "      <td>33</td>\n",
       "    </tr>\n",
       "    <tr>\n",
       "      <th>2</th>\n",
       "      <td>51</td>\n",
       "      <td>M</td>\n",
       "      <td>3</td>\n",
       "      <td>mestrado</td>\n",
       "      <td>casado</td>\n",
       "      <td>$80K - $120K</td>\n",
       "      <td>blue</td>\n",
       "      <td>36</td>\n",
       "      <td>4</td>\n",
       "      <td>0</td>\n",
       "      <td>1</td>\n",
       "      <td>3.418,56</td>\n",
       "      <td>1.887,72</td>\n",
       "      <td>20</td>\n",
       "    </tr>\n",
       "    <tr>\n",
       "      <th>3</th>\n",
       "      <td>40</td>\n",
       "      <td>F</td>\n",
       "      <td>4</td>\n",
       "      <td>ensino medio</td>\n",
       "      <td>na</td>\n",
       "      <td>menos que $40K</td>\n",
       "      <td>blue</td>\n",
       "      <td>34</td>\n",
       "      <td>3</td>\n",
       "      <td>1</td>\n",
       "      <td>4</td>\n",
       "      <td>3.313,03</td>\n",
       "      <td>1.171,56</td>\n",
       "      <td>20</td>\n",
       "    </tr>\n",
       "    <tr>\n",
       "      <th>4</th>\n",
       "      <td>40</td>\n",
       "      <td>M</td>\n",
       "      <td>3</td>\n",
       "      <td>sem educacao formal</td>\n",
       "      <td>casado</td>\n",
       "      <td>$60K - $80K</td>\n",
       "      <td>blue</td>\n",
       "      <td>21</td>\n",
       "      <td>5</td>\n",
       "      <td>0</td>\n",
       "      <td>1</td>\n",
       "      <td>4.716,22</td>\n",
       "      <td>816,08</td>\n",
       "      <td>28</td>\n",
       "    </tr>\n",
       "  </tbody>\n",
       "</table>\n",
       "</div>"
      ],
      "text/plain": [
       "   idade sexo  dependentes         escolaridade estado_civil   salario_anual  \\\n",
       "0     45    M            3         ensino medio       casado     $60K - $80K   \n",
       "1     49    F            5             mestrado     solteiro  menos que $40K   \n",
       "2     51    M            3             mestrado       casado    $80K - $120K   \n",
       "3     40    F            4         ensino medio           na  menos que $40K   \n",
       "4     40    M            3  sem educacao formal       casado     $60K - $80K   \n",
       "\n",
       "  tipo_cartao  meses_de_relacionamento  qtd_produtos  iteracoes_12m  \\\n",
       "0        blue                       39             5              3   \n",
       "1        blue                       44             6              2   \n",
       "2        blue                       36             4              0   \n",
       "3        blue                       34             3              1   \n",
       "4        blue                       21             5              0   \n",
       "\n",
       "   meses_inativo_12m limite_credito valor_transacoes_12m  qtd_transacoes_12m  \n",
       "0                  1      12.691,51             1.144,90                  42  \n",
       "1                  1       8.256,96             1.291,45                  33  \n",
       "2                  1       3.418,56             1.887,72                  20  \n",
       "3                  4       3.313,03             1.171,56                  20  \n",
       "4                  1       4.716,22               816,08                  28  "
      ]
     },
     "execution_count": 6,
     "metadata": {},
     "output_type": "execute_result"
    }
   ],
   "source": [
    "data.head()"
   ]
  },
  {
   "cell_type": "markdown",
   "metadata": {},
   "source": [
    "Com a função `data.replace()` substituímos a *string* **'na'** por **NA**, valor nulo do pandas, por fim dropamos os valores nulos."
   ]
  },
  {
   "cell_type": "code",
   "execution_count": 7,
   "metadata": {},
   "outputs": [],
   "source": [
    "data = data.replace('na', pd.NA).dropna()"
   ]
  },
  {
   "cell_type": "markdown",
   "metadata": {},
   "source": [
    "Convertemos os valores das colunas 'limite_credito' e 'valor_transacoes_12m' para *float*.\n",
    "- Substituímos todos os pontos (.) antes de 3 dígitos + vírgula (,) por nada ('').\n",
    "- Substituímos as vírgulas (,) por pontos (.).\n",
    "- Por último, convertemos o tipo de *string* para *float*."
   ]
  },
  {
   "cell_type": "code",
   "execution_count": 8,
   "metadata": {},
   "outputs": [],
   "source": [
    "data['limite_credito'] = data['limite_credito'].str.replace(r'\\.(?=\\d{3},)', '', regex=True)\n",
    "data['limite_credito'] = data['limite_credito'].str.replace(',', '.', regex=False)\n",
    "data['limite_credito'] = data['limite_credito'].astype(float)\n",
    "\n",
    "data['valor_transacoes_12m'] = data['valor_transacoes_12m'].str.replace(r'\\.(?=\\d{3},)', '',regex=True)\n",
    "data['valor_transacoes_12m'] = data['valor_transacoes_12m'].str.replace(',', '.', regex=True)\n",
    "data['valor_transacoes_12m'] = data['valor_transacoes_12m'].astype(float)"
   ]
  },
  {
   "cell_type": "markdown",
   "metadata": {},
   "source": [
    "Após tratar os dados removendo valores nulos e colunas que não temos interesse  \n",
    "o data ficou com **7081** linhas e **14** colunas."
   ]
  },
  {
   "cell_type": "code",
   "execution_count": 9,
   "metadata": {},
   "outputs": [
    {
     "data": {
      "text/plain": [
       "(7081, 14)"
      ]
     },
     "execution_count": 9,
     "metadata": {},
     "output_type": "execute_result"
    }
   ],
   "source": [
    "data.shape"
   ]
  },
  {
   "cell_type": "markdown",
   "metadata": {},
   "source": [
    "Decidi trocar a faixa salarial, que era uma *string*, por média salarial *float*.\n",
    "- Removi símbolos usando `.replace()` e substituí **'K'**, que significa mil, por **'000'**.\n",
    "- Condição `if` para trocar valores menores que **40k** por **20.000**.\n",
    "- Outra condição para somarmos os ranges de salário e dividir por 2, tirando assim a média.\n",
    "- Se o salário não cair em nenhuma condição, retornamos o valor em *float* do salário.\n",
    "- Por fim, aplicamos a função criada na coluna `salario_anual` do nosso DataFrame.\n"
   ]
  },
  {
   "cell_type": "code",
   "execution_count": 10,
   "metadata": {},
   "outputs": [],
   "source": [
    "def converter_salario(salario):\n",
    "    salario = salario.replace('$', '').replace('+', '').replace('K', '000')\n",
    "    \n",
    "    if 'menos que' in salario:\n",
    "        return 20000.0\n",
    "    \n",
    "    faixa = salario.split(' - ')\n",
    "    if len(faixa) == 2:\n",
    "        return (float(faixa[0]) + float(faixa[1])) / 2\n",
    "    \n",
    "    return float(salario)\n",
    "\n",
    "\n",
    "data['salario_anual'] = data['salario_anual'].apply(converter_salario)"
   ]
  },
  {
   "cell_type": "markdown",
   "metadata": {},
   "source": [
    "Renomeamos a coluna para representar o valor contido nela."
   ]
  },
  {
   "cell_type": "code",
   "execution_count": 11,
   "metadata": {},
   "outputs": [],
   "source": [
    "data = data.rename(columns={'salario_anual': 'media_salario_anual'})"
   ]
  },
  {
   "cell_type": "markdown",
   "metadata": {},
   "source": [
    "Podemos visualizar as colunas com seus tipos corrigidos e sem valores nulos.  \n",
    "Saímos de um uso de **1.2+ MB** para **829.8+ KB** em apenas **10.000** linhas.  \n",
    "Se o arquivo fosse maior, o desempenho seria ainda mais significativo."
   ]
  },
  {
   "cell_type": "code",
   "execution_count": 12,
   "metadata": {},
   "outputs": [
    {
     "name": "stdout",
     "output_type": "stream",
     "text": [
      "<class 'pandas.core.frame.DataFrame'>\n",
      "Index: 7081 entries, 0 to 10126\n",
      "Data columns (total 14 columns):\n",
      " #   Column                   Non-Null Count  Dtype  \n",
      "---  ------                   --------------  -----  \n",
      " 0   idade                    7081 non-null   int64  \n",
      " 1   sexo                     7081 non-null   object \n",
      " 2   dependentes              7081 non-null   int64  \n",
      " 3   escolaridade             7081 non-null   object \n",
      " 4   estado_civil             7081 non-null   object \n",
      " 5   media_salario_anual      7081 non-null   float64\n",
      " 6   tipo_cartao              7081 non-null   object \n",
      " 7   meses_de_relacionamento  7081 non-null   int64  \n",
      " 8   qtd_produtos             7081 non-null   int64  \n",
      " 9   iteracoes_12m            7081 non-null   int64  \n",
      " 10  meses_inativo_12m        7081 non-null   int64  \n",
      " 11  limite_credito           7081 non-null   float64\n",
      " 12  valor_transacoes_12m     7081 non-null   float64\n",
      " 13  qtd_transacoes_12m       7081 non-null   int64  \n",
      "dtypes: float64(3), int64(7), object(4)\n",
      "memory usage: 829.8+ KB\n"
     ]
    }
   ],
   "source": [
    "data.info()"
   ]
  },
  {
   "cell_type": "code",
   "execution_count": 13,
   "metadata": {},
   "outputs": [
    {
     "data": {
      "text/html": [
       "<div>\n",
       "<style scoped>\n",
       "    .dataframe tbody tr th:only-of-type {\n",
       "        vertical-align: middle;\n",
       "    }\n",
       "\n",
       "    .dataframe tbody tr th {\n",
       "        vertical-align: top;\n",
       "    }\n",
       "\n",
       "    .dataframe thead th {\n",
       "        text-align: right;\n",
       "    }\n",
       "</style>\n",
       "<table border=\"1\" class=\"dataframe\">\n",
       "  <thead>\n",
       "    <tr style=\"text-align: right;\">\n",
       "      <th></th>\n",
       "      <th>idade</th>\n",
       "      <th>sexo</th>\n",
       "      <th>dependentes</th>\n",
       "      <th>escolaridade</th>\n",
       "      <th>estado_civil</th>\n",
       "      <th>media_salario_anual</th>\n",
       "      <th>tipo_cartao</th>\n",
       "      <th>meses_de_relacionamento</th>\n",
       "      <th>qtd_produtos</th>\n",
       "      <th>iteracoes_12m</th>\n",
       "      <th>meses_inativo_12m</th>\n",
       "      <th>limite_credito</th>\n",
       "      <th>valor_transacoes_12m</th>\n",
       "      <th>qtd_transacoes_12m</th>\n",
       "    </tr>\n",
       "  </thead>\n",
       "  <tbody>\n",
       "    <tr>\n",
       "      <th>0</th>\n",
       "      <td>45</td>\n",
       "      <td>M</td>\n",
       "      <td>3</td>\n",
       "      <td>ensino medio</td>\n",
       "      <td>casado</td>\n",
       "      <td>70000.0</td>\n",
       "      <td>blue</td>\n",
       "      <td>39</td>\n",
       "      <td>5</td>\n",
       "      <td>3</td>\n",
       "      <td>1</td>\n",
       "      <td>12691.51</td>\n",
       "      <td>1144.90</td>\n",
       "      <td>42</td>\n",
       "    </tr>\n",
       "    <tr>\n",
       "      <th>1</th>\n",
       "      <td>49</td>\n",
       "      <td>F</td>\n",
       "      <td>5</td>\n",
       "      <td>mestrado</td>\n",
       "      <td>solteiro</td>\n",
       "      <td>20000.0</td>\n",
       "      <td>blue</td>\n",
       "      <td>44</td>\n",
       "      <td>6</td>\n",
       "      <td>2</td>\n",
       "      <td>1</td>\n",
       "      <td>8256.96</td>\n",
       "      <td>1291.45</td>\n",
       "      <td>33</td>\n",
       "    </tr>\n",
       "    <tr>\n",
       "      <th>2</th>\n",
       "      <td>51</td>\n",
       "      <td>M</td>\n",
       "      <td>3</td>\n",
       "      <td>mestrado</td>\n",
       "      <td>casado</td>\n",
       "      <td>100000.0</td>\n",
       "      <td>blue</td>\n",
       "      <td>36</td>\n",
       "      <td>4</td>\n",
       "      <td>0</td>\n",
       "      <td>1</td>\n",
       "      <td>3418.56</td>\n",
       "      <td>1887.72</td>\n",
       "      <td>20</td>\n",
       "    </tr>\n",
       "    <tr>\n",
       "      <th>4</th>\n",
       "      <td>40</td>\n",
       "      <td>M</td>\n",
       "      <td>3</td>\n",
       "      <td>sem educacao formal</td>\n",
       "      <td>casado</td>\n",
       "      <td>70000.0</td>\n",
       "      <td>blue</td>\n",
       "      <td>21</td>\n",
       "      <td>5</td>\n",
       "      <td>0</td>\n",
       "      <td>1</td>\n",
       "      <td>4716.22</td>\n",
       "      <td>816.08</td>\n",
       "      <td>28</td>\n",
       "    </tr>\n",
       "    <tr>\n",
       "      <th>5</th>\n",
       "      <td>44</td>\n",
       "      <td>M</td>\n",
       "      <td>2</td>\n",
       "      <td>mestrado</td>\n",
       "      <td>casado</td>\n",
       "      <td>50000.0</td>\n",
       "      <td>blue</td>\n",
       "      <td>36</td>\n",
       "      <td>3</td>\n",
       "      <td>2</td>\n",
       "      <td>1</td>\n",
       "      <td>4010.69</td>\n",
       "      <td>1088.07</td>\n",
       "      <td>24</td>\n",
       "    </tr>\n",
       "  </tbody>\n",
       "</table>\n",
       "</div>"
      ],
      "text/plain": [
       "   idade sexo  dependentes         escolaridade estado_civil  \\\n",
       "0     45    M            3         ensino medio       casado   \n",
       "1     49    F            5             mestrado     solteiro   \n",
       "2     51    M            3             mestrado       casado   \n",
       "4     40    M            3  sem educacao formal       casado   \n",
       "5     44    M            2             mestrado       casado   \n",
       "\n",
       "   media_salario_anual tipo_cartao  meses_de_relacionamento  qtd_produtos  \\\n",
       "0              70000.0        blue                       39             5   \n",
       "1              20000.0        blue                       44             6   \n",
       "2             100000.0        blue                       36             4   \n",
       "4              70000.0        blue                       21             5   \n",
       "5              50000.0        blue                       36             3   \n",
       "\n",
       "   iteracoes_12m  meses_inativo_12m  limite_credito  valor_transacoes_12m  \\\n",
       "0              3                  1        12691.51               1144.90   \n",
       "1              2                  1         8256.96               1291.45   \n",
       "2              0                  1         3418.56               1887.72   \n",
       "4              0                  1         4716.22                816.08   \n",
       "5              2                  1         4010.69               1088.07   \n",
       "\n",
       "   qtd_transacoes_12m  \n",
       "0                  42  \n",
       "1                  33  \n",
       "2                  20  \n",
       "4                  28  \n",
       "5                  24  "
      ]
     },
     "execution_count": 13,
     "metadata": {},
     "output_type": "execute_result"
    }
   ],
   "source": [
    "data.head()"
   ]
  },
  {
   "cell_type": "markdown",
   "metadata": {},
   "source": [
    "Salvando os dados em um arquivo **CSV**."
   ]
  },
  {
   "cell_type": "code",
   "execution_count": 14,
   "metadata": {},
   "outputs": [],
   "source": [
    "data.to_csv('credito.csv', sep=',', index=False, header=False)"
   ]
  },
  {
   "cell_type": "markdown",
   "metadata": {},
   "source": [
    "#### **Exploração dos dados com SQL:**"
   ]
  },
  {
   "cell_type": "markdown",
   "metadata": {},
   "source": [
    "**Query:**\n",
    "\n",
    "```sql\n",
    "select * from credito_clientes limit 10;\n",
    "```\n",
    "![](https://raw.githubusercontent.com/TheuSouza/Curso_AnalistaDeDados_EBAC/refs/heads/main/Modulo_36/img/select%20tudo%20from%20credito_clientes%20limit%2010.png)\n",
    "\n",
    "---"
   ]
  },
  {
   "cell_type": "markdown",
   "metadata": {},
   "source": [
    "**Query:**\n",
    "\n",
    "```sql\n",
    "describe credito_clientes;\n",
    "```\n",
    "![](https://raw.githubusercontent.com/TheuSouza/Curso_AnalistaDeDados_EBAC/refs/heads/main/Modulo_36/img/describe%20credito_clientes.png)\n",
    "\n",
    "---"
   ]
  },
  {
   "cell_type": "markdown",
   "metadata": {},
   "source": [
    "**Query:**\n",
    "\n",
    "```sql\n",
    "select distinct escolaridade from credito_clientes;\n",
    "```\n",
    "![](https://raw.githubusercontent.com/TheuSouza/Curso_AnalistaDeDados_EBAC/refs/heads/main/Modulo_36/img/select%20district%20escolaridade%20from%20credito_clientes.png)\n",
    "\n",
    "---"
   ]
  },
  {
   "cell_type": "markdown",
   "metadata": {},
   "source": [
    "**Query:**\n",
    "\n",
    "```sql\n",
    "select distinct estado_civil from credito_clientes;\n",
    "```\n",
    "![](https://raw.githubusercontent.com/TheuSouza/Curso_AnalistaDeDados_EBAC/refs/heads/main/Modulo_36/img/select%20district%20estado_civil%20from%20credito_clientes.png)\n",
    "\n",
    "---"
   ]
  },
  {
   "cell_type": "markdown",
   "metadata": {},
   "source": [
    "**Query:**\n",
    "\n",
    "```sql\n",
    "select distinct media_salario_anual from credito_clientes;\n",
    "```\n",
    "![](https://raw.githubusercontent.com/TheuSouza/Curso_AnalistaDeDados_EBAC/refs/heads/main/Modulo_36/img/select%20district%20media_salario_anual%20from%20credito_clientes.png)\n",
    "\n",
    "---"
   ]
  },
  {
   "cell_type": "markdown",
   "metadata": {},
   "source": [
    "**Query:**\n",
    "\n",
    "```sql\n",
    "select count(*) as quantidade_cliente, tipo_cartao from credito_clientes group by tipo_cartao;\n",
    "```\n",
    "![](https://raw.githubusercontent.com/TheuSouza/Curso_AnalistaDeDados_EBAC/refs/heads/main/Modulo_36/img/select%20count%20tudo%20as%20quantidade_cliente%20tipo_cartao%20from%20credito_cliente%20group%20by%20tipo_cartao.png)\n",
    "\n",
    "---"
   ]
  },
  {
   "cell_type": "markdown",
   "metadata": {},
   "source": [
    "**Query:**\n",
    "\n",
    "```sql\n",
    "select count(*) as quantidade_cliente, media_salario_anual from credito_clientes group by media_salario_anual order by media_salario_anual;\n",
    "```\n",
    "![](https://raw.githubusercontent.com/TheuSouza/Curso_AnalistaDeDados_EBAC/refs/heads/main/Modulo_36/img/select%20count%20tudo%20%20as%20quantidade_cliente%20media_salario_anual%20from%20credito_cliente%20group%20by%20media_salario_anual.png)\n",
    "\n",
    "---"
   ]
  },
  {
   "cell_type": "markdown",
   "metadata": {},
   "source": [
    "**Query:**\n",
    "\n",
    "```sql\n",
    "select count(*) as quantidade_cliente, sexo from credito_clientes group by sexo;\n",
    "```\n",
    "![](https://raw.githubusercontent.com/TheuSouza/Curso_AnalistaDeDados_EBAC/refs/heads/main/Modulo_36/img/select%20count%20tudo%20%20as%20quantidade_cliente%20sexo%20from%20credito_cliente%20group%20by%20sexo.png)\n",
    "\n",
    "---"
   ]
  },
  {
   "cell_type": "markdown",
   "metadata": {},
   "source": [
    "**Query:**\n",
    "\n",
    "```sql\n",
    "select max(limite_credito) as limite_credito, sexo from credito_clientes group by sexo order by limite_credito;\n",
    "```\n",
    "![](https://raw.githubusercontent.com/TheuSouza/Curso_AnalistaDeDados_EBAC/refs/heads/main/Modulo_36/img/selext%20max%20limite_credito%20sexo%20from%20credito%20clientes%20group%20by%20sexo%20order%20by%20limite_credito.png)\n",
    "\n",
    "---"
   ]
  },
  {
   "cell_type": "markdown",
   "metadata": {},
   "source": [
    "**Query:**\n",
    "\n",
    "```sql\n",
    "select count(sexo) as quantidade_cliente, sexo, media_salario_anual from credito_clientes group by media_salario_anual, sexo order by sexo;\n",
    "```\n",
    "![](https://raw.githubusercontent.com/TheuSouza/Curso_AnalistaDeDados_EBAC/refs/heads/main/Modulo_36/img/select%20count%20sexo%20sexo%20media_salario_anual%20from%20credito_clientes%20group%20by%20media_salario_anual%20order%20by%20sexo.png)\n",
    "\n",
    "---"
   ]
  },
  {
   "cell_type": "markdown",
   "metadata": {},
   "source": [
    "**Query:**\n",
    "\n",
    "```sql\n",
    "select avg(limite_credito) as media_limite_credito, media_salario_anual from credito_clientes group by media_salario_anual order by media_salario_anual;\n",
    "```\n",
    "![](https://raw.githubusercontent.com/TheuSouza/Curso_AnalistaDeDados_EBAC/refs/heads/main/Modulo_36/img/select%20avg%20limite_credito%20media_salario_anual%20from%20credito_clientes%20group%20by%20media_salario_anual%20order%20by%20media_salario_anual.png)\n",
    "\n",
    "---"
   ]
  }
 ],
 "metadata": {
  "kernelspec": {
   "display_name": "Python 3",
   "language": "python",
   "name": "python3"
  },
  "language_info": {
   "codemirror_mode": {
    "name": "ipython",
    "version": 3
   },
   "file_extension": ".py",
   "mimetype": "text/x-python",
   "name": "python",
   "nbconvert_exporter": "python",
   "pygments_lexer": "ipython3",
   "version": "3.12.7"
  }
 },
 "nbformat": 4,
 "nbformat_minor": 2
}
