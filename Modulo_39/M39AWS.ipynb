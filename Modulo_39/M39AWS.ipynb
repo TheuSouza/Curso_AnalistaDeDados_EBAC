{
 "cells": [
  {
   "cell_type": "code",
   "execution_count": 4,
   "metadata": {},
   "outputs": [],
   "source": [
    "import boto3\n",
    "import pandas as pd\n",
    "from getpass import getpass"
   ]
  },
  {
   "cell_type": "code",
   "execution_count": 5,
   "metadata": {},
   "outputs": [],
   "source": [
    "Chave_acesso = getpass()"
   ]
  },
  {
   "cell_type": "code",
   "execution_count": 6,
   "metadata": {},
   "outputs": [],
   "source": [
    "Chave_secreta = getpass()"
   ]
  },
  {
   "cell_type": "code",
   "execution_count": 8,
   "metadata": {},
   "outputs": [],
   "source": [
    "cliente = boto3.client('s3', aws_access_key_id=Chave_acesso, aws_secret_access_key=Chave_secreta)"
   ]
  },
  {
   "cell_type": "code",
   "execution_count": 21,
   "metadata": {},
   "outputs": [],
   "source": [
    "BUCKET = 'ebac-m39'\n",
    "\n",
    "cliente.download_file(Bucket=BUCKET, Key='PETR3.csv', Filename='PETR3_AWS.csv')"
   ]
  },
  {
   "cell_type": "code",
   "execution_count": 23,
   "metadata": {},
   "outputs": [
    {
     "data": {
      "text/html": [
       "<div>\n",
       "<style scoped>\n",
       "    .dataframe tbody tr th:only-of-type {\n",
       "        vertical-align: middle;\n",
       "    }\n",
       "\n",
       "    .dataframe tbody tr th {\n",
       "        vertical-align: top;\n",
       "    }\n",
       "\n",
       "    .dataframe thead th {\n",
       "        text-align: right;\n",
       "    }\n",
       "</style>\n",
       "<table border=\"1\" class=\"dataframe\">\n",
       "  <thead>\n",
       "    <tr style=\"text-align: right;\">\n",
       "      <th></th>\n",
       "      <th>longname</th>\n",
       "      <th>symbol</th>\n",
       "      <th>regularmarketprice</th>\n",
       "      <th>reference_date</th>\n",
       "    </tr>\n",
       "  </thead>\n",
       "  <tbody>\n",
       "    <tr>\n",
       "      <th>0</th>\n",
       "      <td>Petróleo Brasileiro S.A. - Petrobras</td>\n",
       "      <td>PETR3</td>\n",
       "      <td>36.71</td>\n",
       "      <td>2025-03-13</td>\n",
       "    </tr>\n",
       "    <tr>\n",
       "      <th>1</th>\n",
       "      <td>Petróleo Brasileiro S.A. - Petrobras</td>\n",
       "      <td>PETR3</td>\n",
       "      <td>40.82</td>\n",
       "      <td>2025-04-03</td>\n",
       "    </tr>\n",
       "    <tr>\n",
       "      <th>2</th>\n",
       "      <td>Petróleo Brasileiro S.A. - Petrobras</td>\n",
       "      <td>PETR3</td>\n",
       "      <td>33.26</td>\n",
       "      <td>2025-04-11</td>\n",
       "    </tr>\n",
       "    <tr>\n",
       "      <th>3</th>\n",
       "      <td>Petróleo Brasileiro S.A. - Petrobras</td>\n",
       "      <td>PETR3</td>\n",
       "      <td>38.41</td>\n",
       "      <td>2025-03-17</td>\n",
       "    </tr>\n",
       "    <tr>\n",
       "      <th>4</th>\n",
       "      <td>Petróleo Brasileiro S.A. - Petrobras</td>\n",
       "      <td>PETR3</td>\n",
       "      <td>37.73</td>\n",
       "      <td>2025-04-06</td>\n",
       "    </tr>\n",
       "  </tbody>\n",
       "</table>\n",
       "</div>"
      ],
      "text/plain": [
       "                               longname symbol  regularmarketprice  \\\n",
       "0  Petróleo Brasileiro S.A. - Petrobras  PETR3               36.71   \n",
       "1  Petróleo Brasileiro S.A. - Petrobras  PETR3               40.82   \n",
       "2  Petróleo Brasileiro S.A. - Petrobras  PETR3               33.26   \n",
       "3  Petróleo Brasileiro S.A. - Petrobras  PETR3               38.41   \n",
       "4  Petróleo Brasileiro S.A. - Petrobras  PETR3               37.73   \n",
       "\n",
       "  reference_date  \n",
       "0     2025-03-13  \n",
       "1     2025-04-03  \n",
       "2     2025-04-11  \n",
       "3     2025-03-17  \n",
       "4     2025-04-06  "
      ]
     },
     "execution_count": 23,
     "metadata": {},
     "output_type": "execute_result"
    }
   ],
   "source": [
    "data = pd.read_csv('PETR3_AWS.csv')\n",
    "data.head()"
   ]
  }
 ],
 "metadata": {
  "kernelspec": {
   "display_name": "Python 3",
   "language": "python",
   "name": "python3"
  },
  "language_info": {
   "codemirror_mode": {
    "name": "ipython",
    "version": 3
   },
   "file_extension": ".py",
   "mimetype": "text/x-python",
   "name": "python",
   "nbconvert_exporter": "python",
   "pygments_lexer": "ipython3",
   "version": "3.12.7"
  }
 },
 "nbformat": 4,
 "nbformat_minor": 2
}
